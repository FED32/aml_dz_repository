{
 "cells": [
  {
   "cell_type": "markdown",
   "metadata": {},
   "source": [
    "# Домашнее задание\n",
    "\n",
    "- Скачайте текст войны и мир (ссылка на [github](https://github.com/netology-code/ds3-spring-2018/tree/master/7.%20Time_series/7.4/war_and_peace) и [гугл диск](https://drive.google.com/drive/u/2/folders/1aM7cNI6Qs7AyeYpQ8lNg7vLsHzIl0JbU)). Очистите его, оставив только русские буквы и символы пробела. Постройте матрицу переходных вероятностей. Посчитайте вероятность встретить строку из 4-х символов, которая начинается п, а кончается на р; Используя матрицу переходных вероятностей сгенерируйте слово, начинающееся с буквы \"Б\" и имеющее длину 8-мь символов\n",
    "- Выберите ряд из предыдущих домашних заданий по временным рядам и оцените его через HMM. Попробуйте “построить” (через среднее каждой компоненты) наивный прогноз ряда."
   ]
  },
  {
   "cell_type": "code",
   "execution_count": 248,
   "metadata": {},
   "outputs": [],
   "source": [
    "import numpy as np\n",
    "import re\n",
    "import matplotlib.pyplot as plt\n",
    "import seaborn as sns\n",
    "import pandas as pd\n",
    "%matplotlib inline\n",
    "sns.set()"
   ]
  },
  {
   "cell_type": "code",
   "execution_count": 249,
   "metadata": {},
   "outputs": [],
   "source": [
    "with open('war_and_peace/tom_1.txt', 'r', encoding=\"utf-8\") as f_1, \\\n",
    "    open('war_and_peace/tom_2.txt', 'r', encoding=\"utf-8\") as f_2, \\\n",
    "    open('war_and_peace/tom_3.txt', 'r', encoding=\"utf-8\") as f_3, \\\n",
    "    open('war_and_peace/tom_4.txt', 'r', encoding=\"utf-8\") as f_4:\n",
    "    text = f_1.read().lower() + f_2.read().lower() + f_3.read().lower() + f_4.read().lower()"
   ]
  },
  {
   "cell_type": "code",
   "execution_count": 250,
   "metadata": {},
   "outputs": [],
   "source": [
    "text = re.sub('[^ а-яё\\n]', '', text)"
   ]
  },
  {
   "cell_type": "code",
   "execution_count": 251,
   "metadata": {},
   "outputs": [],
   "source": [
    "text = re.sub('\\n', ' ', text)"
   ]
  },
  {
   "cell_type": "code",
   "execution_count": 252,
   "metadata": {},
   "outputs": [],
   "source": [
    "text = re.sub('\\s+', ' ', text)"
   ]
  },
  {
   "cell_type": "code",
   "execution_count": 253,
   "metadata": {},
   "outputs": [],
   "source": [
    "# text"
   ]
  },
  {
   "cell_type": "code",
   "execution_count": 254,
   "metadata": {},
   "outputs": [],
   "source": [
    "RUSSIAN = 'абвгдеёжзийклмнопрстуфхцчшщъыьэюя '\n",
    "POS = {l: i for i, l in enumerate(RUSSIAN)}"
   ]
  },
  {
   "cell_type": "code",
   "execution_count": 255,
   "metadata": {},
   "outputs": [],
   "source": [
    "probabilities = np.zeros((len(RUSSIAN), len(RUSSIAN)))"
   ]
  },
  {
   "cell_type": "code",
   "execution_count": 256,
   "metadata": {},
   "outputs": [],
   "source": [
    "for cp, cn in zip(text[:-1], text[1:]):\n",
    "    probabilities[POS[cp], POS[cn]] += 1"
   ]
  },
  {
   "cell_type": "code",
   "execution_count": 257,
   "metadata": {},
   "outputs": [],
   "source": [
    "probabilities = (probabilities / probabilities.sum(axis=1)[:, None])"
   ]
  },
  {
   "cell_type": "code",
   "execution_count": 258,
   "metadata": {},
   "outputs": [],
   "source": [
    "df = pd.DataFrame(probabilities, index=(c for c in RUSSIAN), columns=(c for c in RUSSIAN))"
   ]
  },
  {
   "cell_type": "code",
   "execution_count": 259,
   "metadata": {},
   "outputs": [
    {
     "data": {
      "image/png": "[encoded data removed]",
      "text/plain": [
       "<Figure size 1008x576 with 2 Axes>"
      ]
     },
     "metadata": {},
     "output_type": "display_data"
    }
   ],
   "source": [
    "plt.figure(figsize=(14,8))\n",
    "sns.heatmap(df)\n",
    "plt.show()"
   ]
  },
  {
   "cell_type": "code",
   "execution_count": 260,
   "metadata": {},
   "outputs": [],
   "source": [
    "# df"
   ]
  },
  {
   "cell_type": "code",
   "execution_count": 261,
   "metadata": {},
   "outputs": [],
   "source": [
    "# Посчитайте вероятность встретить строку из 4-х символов, которая начинается п, а кончается на р"
   ]
  },
  {
   "cell_type": "code",
   "execution_count": 262,
   "metadata": {},
   "outputs": [],
   "source": [
    "res = []\n",
    "start = 'п'\n",
    "end = 'р'\n",
    "prior = 1. / len(RUSSIAN)\n",
    "for c in RUSSIAN:\n",
    "    for d in RUSSIAN:\n",
    "        proba = prior * probabilities[POS[start], POS[c]] * probabilities[POS[c], POS[d]] * probabilities[POS[d], POS[end]]\n",
    "#         if proba > 0:\n",
    "#         print(''.join([start, c, d, end]), proba)\n",
    "        res.append([''.join([start, c, d, end]), proba])"
   ]
  },
  {
   "cell_type": "code",
   "execution_count": 263,
   "metadata": {},
   "outputs": [],
   "source": [
    "data = pd.DataFrame(res)"
   ]
  },
  {
   "cell_type": "code",
   "execution_count": 264,
   "metadata": {},
   "outputs": [],
   "source": [
    "data.columns=['word', 'prob']"
   ]
  },
  {
   "cell_type": "code",
   "execution_count": 265,
   "metadata": {},
   "outputs": [],
   "source": [
    "# data"
   ]
  },
  {
   "cell_type": "code",
   "execution_count": 266,
   "metadata": {},
   "outputs": [],
   "source": [
    "reg = r'\\s' # отсеим слова с пробелами\n",
    "data['word_1'] = data['word'].str.contains(reg).values.reshape(-1)"
   ]
  },
  {
   "cell_type": "code",
   "execution_count": 267,
   "metadata": {},
   "outputs": [
    {
     "data": {
      "text/html": [
       "<div>\n",
       "<style scoped>\n",
       "    .dataframe tbody tr th:only-of-type {\n",
       "        vertical-align: middle;\n",
       "    }\n",
       "\n",
       "    .dataframe tbody tr th {\n",
       "        vertical-align: top;\n",
       "    }\n",
       "\n",
       "    .dataframe thead th {\n",
       "        text-align: right;\n",
       "    }\n",
       "</style>\n",
       "<table border=\"1\" class=\"dataframe\">\n",
       "  <thead>\n",
       "    <tr style=\"text-align: right;\">\n",
       "      <th></th>\n",
       "      <th>word</th>\n",
       "      <th>prob</th>\n",
       "      <th>word_1</th>\n",
       "    </tr>\n",
       "  </thead>\n",
       "  <tbody>\n",
       "    <tr>\n",
       "      <th>583</th>\n",
       "      <td>прер</td>\n",
       "      <td>0.000120</td>\n",
       "      <td>False</td>\n",
       "    </tr>\n",
       "    <tr>\n",
       "      <th>593</th>\n",
       "      <td>прор</td>\n",
       "      <td>0.000091</td>\n",
       "      <td>False</td>\n",
       "    </tr>\n",
       "    <tr>\n",
       "      <th>578</th>\n",
       "      <td>прар</td>\n",
       "      <td>0.000074</td>\n",
       "      <td>False</td>\n",
       "    </tr>\n",
       "    <tr>\n",
       "      <th>529</th>\n",
       "      <td>потр</td>\n",
       "      <td>0.000042</td>\n",
       "      <td>False</td>\n",
       "    </tr>\n",
       "    <tr>\n",
       "      <th>526</th>\n",
       "      <td>попр</td>\n",
       "      <td>0.000041</td>\n",
       "      <td>False</td>\n",
       "    </tr>\n",
       "    <tr>\n",
       "      <th>513</th>\n",
       "      <td>погр</td>\n",
       "      <td>0.000038</td>\n",
       "      <td>False</td>\n",
       "    </tr>\n",
       "    <tr>\n",
       "      <th>514</th>\n",
       "      <td>подр</td>\n",
       "      <td>0.000038</td>\n",
       "      <td>False</td>\n",
       "    </tr>\n",
       "    <tr>\n",
       "      <th>511</th>\n",
       "      <td>побр</td>\n",
       "      <td>0.000029</td>\n",
       "      <td>False</td>\n",
       "    </tr>\n",
       "    <tr>\n",
       "      <th>515</th>\n",
       "      <td>поер</td>\n",
       "      <td>0.000026</td>\n",
       "      <td>False</td>\n",
       "    </tr>\n",
       "    <tr>\n",
       "      <th>598</th>\n",
       "      <td>прур</td>\n",
       "      <td>0.000015</td>\n",
       "      <td>False</td>\n",
       "    </tr>\n",
       "    <tr>\n",
       "      <th>512</th>\n",
       "      <td>повр</td>\n",
       "      <td>0.000014</td>\n",
       "      <td>False</td>\n",
       "    </tr>\n",
       "    <tr>\n",
       "      <th>186</th>\n",
       "      <td>пепр</td>\n",
       "      <td>0.000012</td>\n",
       "      <td>False</td>\n",
       "    </tr>\n",
       "    <tr>\n",
       "      <th>173</th>\n",
       "      <td>пегр</td>\n",
       "      <td>0.000011</td>\n",
       "      <td>False</td>\n",
       "    </tr>\n",
       "    <tr>\n",
       "      <th>521</th>\n",
       "      <td>покр</td>\n",
       "      <td>0.000010</td>\n",
       "      <td>False</td>\n",
       "    </tr>\n",
       "    <tr>\n",
       "      <th>587</th>\n",
       "      <td>прир</td>\n",
       "      <td>0.000010</td>\n",
       "      <td>False</td>\n",
       "    </tr>\n",
       "    <tr>\n",
       "      <th>531</th>\n",
       "      <td>пофр</td>\n",
       "      <td>0.000010</td>\n",
       "      <td>False</td>\n",
       "    </tr>\n",
       "    <tr>\n",
       "      <th>189</th>\n",
       "      <td>петр</td>\n",
       "      <td>0.000009</td>\n",
       "      <td>False</td>\n",
       "    </tr>\n",
       "    <tr>\n",
       "      <th>174</th>\n",
       "      <td>педр</td>\n",
       "      <td>0.000008</td>\n",
       "      <td>False</td>\n",
       "    </tr>\n",
       "    <tr>\n",
       "      <th>423</th>\n",
       "      <td>плор</td>\n",
       "      <td>0.000008</td>\n",
       "      <td>False</td>\n",
       "    </tr>\n",
       "    <tr>\n",
       "      <th>413</th>\n",
       "      <td>плер</td>\n",
       "      <td>0.000008</td>\n",
       "      <td>False</td>\n",
       "    </tr>\n",
       "    <tr>\n",
       "      <th>991</th>\n",
       "      <td>пьер</td>\n",
       "      <td>0.000008</td>\n",
       "      <td>False</td>\n",
       "    </tr>\n",
       "    <tr>\n",
       "      <th>175</th>\n",
       "      <td>пеер</td>\n",
       "      <td>0.000007</td>\n",
       "      <td>False</td>\n",
       "    </tr>\n",
       "    <tr>\n",
       "      <th>696</th>\n",
       "      <td>пупр</td>\n",
       "      <td>0.000007</td>\n",
       "      <td>False</td>\n",
       "    </tr>\n",
       "    <tr>\n",
       "      <th>597</th>\n",
       "      <td>пртр</td>\n",
       "      <td>0.000006</td>\n",
       "      <td>False</td>\n",
       "    </tr>\n",
       "    <tr>\n",
       "      <th>606</th>\n",
       "      <td>прыр</td>\n",
       "      <td>0.000006</td>\n",
       "      <td>False</td>\n",
       "    </tr>\n",
       "  </tbody>\n",
       "</table>\n",
       "</div>"
      ],
      "text/plain": [
       "     word      prob  word_1\n",
       "583  прер  0.000120   False\n",
       "593  прор  0.000091   False\n",
       "578  прар  0.000074   False\n",
       "529  потр  0.000042   False\n",
       "526  попр  0.000041   False\n",
       "513  погр  0.000038   False\n",
       "514  подр  0.000038   False\n",
       "511  побр  0.000029   False\n",
       "515  поер  0.000026   False\n",
       "598  прур  0.000015   False\n",
       "512  повр  0.000014   False\n",
       "186  пепр  0.000012   False\n",
       "173  пегр  0.000011   False\n",
       "521  покр  0.000010   False\n",
       "587  прир  0.000010   False\n",
       "531  пофр  0.000010   False\n",
       "189  петр  0.000009   False\n",
       "174  педр  0.000008   False\n",
       "423  плор  0.000008   False\n",
       "413  плер  0.000008   False\n",
       "991  пьер  0.000008   False\n",
       "175  пеер  0.000007   False\n",
       "696  пупр  0.000007   False\n",
       "597  пртр  0.000006   False\n",
       "606  прыр  0.000006   False"
      ]
     },
     "execution_count": 267,
     "metadata": {},
     "output_type": "execute_result"
    }
   ],
   "source": [
    "data[data['word_1']==False].sort_values('prob', ascending=False).head(25)"
   ]
  },
  {
   "cell_type": "code",
   "execution_count": null,
   "metadata": {},
   "outputs": [],
   "source": []
  },
  {
   "cell_type": "code",
   "execution_count": 268,
   "metadata": {},
   "outputs": [],
   "source": [
    "# Используя матрицу переходных вероятностей сгенерируйте слово, начинающееся с буквы \"Б\" и имеющее длину 8-мь символов"
   ]
  },
  {
   "cell_type": "code",
   "execution_count": 269,
   "metadata": {},
   "outputs": [],
   "source": [
    "def get_letter_and_prob(prev_letter):\n",
    "    if prev_letter is None:\n",
    "        for s in list(RUSSIAN):\n",
    "            yield s, 1.0/len(RUSSIAN)\n",
    "    else:\n",
    "        p = POS[prev_letter] \n",
    "        prob = probabilities[p]\n",
    "        for s in list(RUSSIAN):\n",
    "            sp = POS[s]\n",
    "            yield s, prob[sp] "
   ]
  },
  {
   "cell_type": "code",
   "execution_count": 270,
   "metadata": {},
   "outputs": [],
   "source": [
    "start_1 = 'б'"
   ]
  },
  {
   "cell_type": "code",
   "execution_count": 271,
   "metadata": {},
   "outputs": [],
   "source": [
    "res_1 = []"
   ]
  },
  {
   "cell_type": "code",
   "execution_count": 272,
   "metadata": {},
   "outputs": [],
   "source": [
    "# for s1, p1 in get_letter_and_prob(start_1):\n",
    "#     for s2, p2 in get_letter_and_prob(s1):\n",
    "#         for s3, p3 in get_letter_and_prob(s2):\n",
    "#             for s4, p4 in get_letter_and_prob(s3):\n",
    "#                 for s5, p5 in get_letter_and_prob(s4):\n",
    "#                     for s6, p6 in get_letter_and_prob(s5):\n",
    "#                         for s7, p7 in get_letter_and_prob(s6):\n",
    "#                             prob = p1 * p2 * p3 * p4 * p5 * p6 * p7\n",
    "#                             if prob > 0:\n",
    "# #                                 print(start_1+s1+s2+s3+s4+s5+s6+s7, prob)\n",
    "#                                 res_1.append([start_1+s1+s2+s3+s4+s5+s6+s7, prob])"
   ]
  },
  {
   "cell_type": "markdown",
   "metadata": {},
   "source": [
    "Код для расчета вероятностей для слова из 8 символов (код в ячейке выше) долго выполняется и требует много памяти, поэтому выполним для 5 букв"
   ]
  },
  {
   "cell_type": "code",
   "execution_count": 273,
   "metadata": {},
   "outputs": [],
   "source": [
    "for s1, p1 in get_letter_and_prob(start_1):\n",
    "    for s2, p2 in get_letter_and_prob(s1):\n",
    "        for s3, p3 in get_letter_and_prob(s2):\n",
    "            for s4, p4 in get_letter_and_prob(s3):\n",
    "                for s5, p5 in get_letter_and_prob(s4):\n",
    "                    prob = p1 * p2 * p3 * p4 * p5\n",
    "#                     if prob > 0:\n",
    "#                         print(start_1+s1+s2+s3+s4, prob)\n",
    "                    res_1.append([start_1+s1+s2+s3+s4+s5, prob])"
   ]
  },
  {
   "cell_type": "code",
   "execution_count": 274,
   "metadata": {},
   "outputs": [],
   "source": [
    "# len(res_1)"
   ]
  },
  {
   "cell_type": "code",
   "execution_count": 275,
   "metadata": {},
   "outputs": [],
   "source": [
    "data_1 = pd.DataFrame(res_1)"
   ]
  },
  {
   "cell_type": "code",
   "execution_count": 276,
   "metadata": {},
   "outputs": [],
   "source": [
    "data_1.columns=['word', 'prob']"
   ]
  },
  {
   "cell_type": "code",
   "execution_count": 277,
   "metadata": {},
   "outputs": [],
   "source": [
    "reg = r'\\s' # отсеим слова с пробелами\n",
    "data_1['word_1'] = data_1['word'].str.contains(reg).values.reshape(-1)"
   ]
  },
  {
   "cell_type": "code",
   "execution_count": 278,
   "metadata": {},
   "outputs": [
    {
     "data": {
      "text/html": [
       "<div>\n",
       "<style scoped>\n",
       "    .dataframe tbody tr th:only-of-type {\n",
       "        vertical-align: middle;\n",
       "    }\n",
       "\n",
       "    .dataframe tbody tr th {\n",
       "        vertical-align: top;\n",
       "    }\n",
       "\n",
       "    .dataframe thead th {\n",
       "        text-align: right;\n",
       "    }\n",
       "</style>\n",
       "<table border=\"1\" class=\"dataframe\">\n",
       "  <thead>\n",
       "    <tr style=\"text-align: right;\">\n",
       "      <th></th>\n",
       "      <th>word</th>\n",
       "      <th>prob</th>\n",
       "      <th>word_1</th>\n",
       "    </tr>\n",
       "  </thead>\n",
       "  <tbody>\n",
       "    <tr>\n",
       "      <th>37906513</th>\n",
       "      <td>былого</td>\n",
       "      <td>0.000148</td>\n",
       "      <td>False</td>\n",
       "    </tr>\n",
       "    <tr>\n",
       "      <th>38299553</th>\n",
       "      <td>быхого</td>\n",
       "      <td>0.000130</td>\n",
       "      <td>False</td>\n",
       "    </tr>\n",
       "    <tr>\n",
       "      <th>37889328</th>\n",
       "      <td>былаза</td>\n",
       "      <td>0.000128</td>\n",
       "      <td>False</td>\n",
       "    </tr>\n",
       "    <tr>\n",
       "      <th>37889717</th>\n",
       "      <td>былато</td>\n",
       "      <td>0.000128</td>\n",
       "      <td>False</td>\n",
       "    </tr>\n",
       "    <tr>\n",
       "      <th>37889464</th>\n",
       "      <td>былала</td>\n",
       "      <td>0.000127</td>\n",
       "      <td>False</td>\n",
       "    </tr>\n",
       "    <tr>\n",
       "      <th>37831917</th>\n",
       "      <td>быйсто</td>\n",
       "      <td>0.000121</td>\n",
       "      <td>False</td>\n",
       "    </tr>\n",
       "    <tr>\n",
       "      <th>37907057</th>\n",
       "      <td>былото</td>\n",
       "      <td>0.000119</td>\n",
       "      <td>False</td>\n",
       "    </tr>\n",
       "    <tr>\n",
       "      <th>37889473</th>\n",
       "      <td>былали</td>\n",
       "      <td>0.000119</td>\n",
       "      <td>False</td>\n",
       "    </tr>\n",
       "    <tr>\n",
       "      <th>37889479</th>\n",
       "      <td>былало</td>\n",
       "      <td>0.000114</td>\n",
       "      <td>False</td>\n",
       "    </tr>\n",
       "    <tr>\n",
       "      <th>37889445</th>\n",
       "      <td>былако</td>\n",
       "      <td>0.000107</td>\n",
       "      <td>False</td>\n",
       "    </tr>\n",
       "    <tr>\n",
       "      <th>38300097</th>\n",
       "      <td>быхото</td>\n",
       "      <td>0.000105</td>\n",
       "      <td>False</td>\n",
       "    </tr>\n",
       "    <tr>\n",
       "      <th>37517485</th>\n",
       "      <td>бывсто</td>\n",
       "      <td>0.000103</td>\n",
       "      <td>False</td>\n",
       "    </tr>\n",
       "    <tr>\n",
       "      <th>37894953</th>\n",
       "      <td>былего</td>\n",
       "      <td>0.000101</td>\n",
       "      <td>False</td>\n",
       "    </tr>\n",
       "    <tr>\n",
       "      <th>37907027</th>\n",
       "      <td>былост</td>\n",
       "      <td>0.000100</td>\n",
       "      <td>False</td>\n",
       "    </tr>\n",
       "    <tr>\n",
       "      <th>20180409</th>\n",
       "      <td>богого</td>\n",
       "      <td>0.000100</td>\n",
       "      <td>False</td>\n",
       "    </tr>\n",
       "    <tr>\n",
       "      <th>37900121</th>\n",
       "      <td>былито</td>\n",
       "      <td>0.000097</td>\n",
       "      <td>False</td>\n",
       "    </tr>\n",
       "    <tr>\n",
       "      <th>6817049</th>\n",
       "      <td>бегого</td>\n",
       "      <td>0.000097</td>\n",
       "      <td>False</td>\n",
       "    </tr>\n",
       "    <tr>\n",
       "      <th>37889430</th>\n",
       "      <td>былака</td>\n",
       "      <td>0.000093</td>\n",
       "      <td>False</td>\n",
       "    </tr>\n",
       "    <tr>\n",
       "      <th>37513473</th>\n",
       "      <td>бывого</td>\n",
       "      <td>0.000088</td>\n",
       "      <td>False</td>\n",
       "    </tr>\n",
       "    <tr>\n",
       "      <th>38181641</th>\n",
       "      <td>бытого</td>\n",
       "      <td>0.000088</td>\n",
       "      <td>False</td>\n",
       "    </tr>\n",
       "    <tr>\n",
       "      <th>38300067</th>\n",
       "      <td>быхост</td>\n",
       "      <td>0.000088</td>\n",
       "      <td>False</td>\n",
       "    </tr>\n",
       "    <tr>\n",
       "      <th>37945817</th>\n",
       "      <td>бымого</td>\n",
       "      <td>0.000088</td>\n",
       "      <td>False</td>\n",
       "    </tr>\n",
       "    <tr>\n",
       "      <th>37906479</th>\n",
       "      <td>былово</td>\n",
       "      <td>0.000085</td>\n",
       "      <td>False</td>\n",
       "    </tr>\n",
       "    <tr>\n",
       "      <th>37910525</th>\n",
       "      <td>былсто</td>\n",
       "      <td>0.000082</td>\n",
       "      <td>False</td>\n",
       "    </tr>\n",
       "    <tr>\n",
       "      <th>20180953</th>\n",
       "      <td>богото</td>\n",
       "      <td>0.000080</td>\n",
       "      <td>False</td>\n",
       "    </tr>\n",
       "    <tr>\n",
       "      <th>20809273</th>\n",
       "      <td>ботого</td>\n",
       "      <td>0.000080</td>\n",
       "      <td>False</td>\n",
       "    </tr>\n",
       "    <tr>\n",
       "      <th>37889687</th>\n",
       "      <td>быласт</td>\n",
       "      <td>0.000080</td>\n",
       "      <td>False</td>\n",
       "    </tr>\n",
       "    <tr>\n",
       "      <th>37906974</th>\n",
       "      <td>былора</td>\n",
       "      <td>0.000079</td>\n",
       "      <td>False</td>\n",
       "    </tr>\n",
       "    <tr>\n",
       "      <th>37889532</th>\n",
       "      <td>былана</td>\n",
       "      <td>0.000079</td>\n",
       "      <td>False</td>\n",
       "    </tr>\n",
       "    <tr>\n",
       "      <th>37895414</th>\n",
       "      <td>былера</td>\n",
       "      <td>0.000078</td>\n",
       "      <td>False</td>\n",
       "    </tr>\n",
       "  </tbody>\n",
       "</table>\n",
       "</div>"
      ],
      "text/plain": [
       "            word      prob  word_1\n",
       "37906513  былого  0.000148   False\n",
       "38299553  быхого  0.000130   False\n",
       "37889328  былаза  0.000128   False\n",
       "37889717  былато  0.000128   False\n",
       "37889464  былала  0.000127   False\n",
       "37831917  быйсто  0.000121   False\n",
       "37907057  былото  0.000119   False\n",
       "37889473  былали  0.000119   False\n",
       "37889479  былало  0.000114   False\n",
       "37889445  былако  0.000107   False\n",
       "38300097  быхото  0.000105   False\n",
       "37517485  бывсто  0.000103   False\n",
       "37894953  былего  0.000101   False\n",
       "37907027  былост  0.000100   False\n",
       "20180409  богого  0.000100   False\n",
       "37900121  былито  0.000097   False\n",
       "6817049   бегого  0.000097   False\n",
       "37889430  былака  0.000093   False\n",
       "37513473  бывого  0.000088   False\n",
       "38181641  бытого  0.000088   False\n",
       "38300067  быхост  0.000088   False\n",
       "37945817  бымого  0.000088   False\n",
       "37906479  былово  0.000085   False\n",
       "37910525  былсто  0.000082   False\n",
       "20180953  богото  0.000080   False\n",
       "20809273  ботого  0.000080   False\n",
       "37889687  быласт  0.000080   False\n",
       "37906974  былора  0.000079   False\n",
       "37889532  былана  0.000079   False\n",
       "37895414  былера  0.000078   False"
      ]
     },
     "execution_count": 278,
     "metadata": {},
     "output_type": "execute_result"
    }
   ],
   "source": [
    "data_1[data_1['word_1']==False].sort_values('prob', ascending=False).head(30)"
   ]
  },
  {
   "cell_type": "code",
   "execution_count": null,
   "metadata": {},
   "outputs": [],
   "source": []
  },
  {
   "cell_type": "markdown",
   "metadata": {},
   "source": [
    "Выберите ряд из предыдущих домашних заданий по временным рядам и оцените его через HMM. Попробуйте “построить” (через среднее каждой компоненты) наивный прогноз ряда."
   ]
  },
  {
   "cell_type": "code",
   "execution_count": 279,
   "metadata": {},
   "outputs": [],
   "source": [
    "sales_of_company_x = pd.read_csv(\"Series/monthly-sales-of-company-x-jan-6.csv\")\n",
    "robberies_in_boston = pd.read_csv(\"Series/monthly-boston-armed-robberies-j.csv\")\n",
    "airlines_passengers = pd.read_csv(\"Series/international-airline-passengers.csv\")\n",
    "mean_monthly_temp = pd.read_csv(\"Series/mean-monthly-air-temperature-deg.csv\")\n",
    "dowjones_closing = pd.read_csv(\"Series/weekly-closings-of-the-dowjones-.csv\")\n",
    "female_births = pd.read_csv(\"Series/daily-total-female-births-in-cal.csv\")"
   ]
  },
  {
   "cell_type": "code",
   "execution_count": null,
   "metadata": {},
   "outputs": [],
   "source": []
  },
  {
   "cell_type": "code",
   "execution_count": 280,
   "metadata": {},
   "outputs": [],
   "source": [
    "from hmmlearn.hmm import GaussianHMM"
   ]
  },
  {
   "cell_type": "code",
   "execution_count": 281,
   "metadata": {},
   "outputs": [],
   "source": [
    "series = dowjones_closing['Close']"
   ]
  },
  {
   "cell_type": "code",
   "execution_count": 282,
   "metadata": {},
   "outputs": [],
   "source": [
    "values = series.values.reshape(-1,1)"
   ]
  },
  {
   "cell_type": "code",
   "execution_count": 283,
   "metadata": {},
   "outputs": [
    {
     "name": "stdout",
     "output_type": "stream",
     "text": [
      "1 -894.2620483582104\n",
      "2 -820.6341453620569\n",
      "3 -786.8375332667736\n",
      "4 -752.0201472668955\n",
      "5 -737.1181111930915\n",
      "6 -729.5671112589446\n",
      "7 -713.7233778326264\n",
      "8 -702.1073061994863\n",
      "9 -690.983293646809\n",
      "10 -691.3313489290479\n",
      "11 -682.0122706600298\n"
     ]
    }
   ],
   "source": [
    "for n in range(1, 12):\n",
    "    model = GaussianHMM(n_components=n,\n",
    "                        covariance_type=\"diag\",\n",
    "                        n_iter=1000)\n",
    "    model.fit(values)\n",
    "    print (n, model.score(values))"
   ]
  },
  {
   "cell_type": "code",
   "execution_count": 284,
   "metadata": {},
   "outputs": [
    {
     "data": {
      "text/plain": [
       "[<matplotlib.lines.Line2D at 0x2d3d663fac0>]"
      ]
     },
     "execution_count": 284,
     "metadata": {},
     "output_type": "execute_result"
    },
    {
     "data": {
      "image/png": "[encoded data removed]",
      "text/plain": [
       "<Figure size 864x432 with 1 Axes>"
      ]
     },
     "metadata": {},
     "output_type": "display_data"
    }
   ],
   "source": [
    "model = GaussianHMM(n_components=11,\n",
    "                        covariance_type=\"diag\",\n",
    "                        n_iter=1000)\n",
    "model.fit(values)\n",
    "labels = model.predict(values)\n",
    "means = np.zeros_like(values)\n",
    "for i in range(model.n_components):\n",
    "    means[labels == i] = model.means_[i]\n",
    "plt.figure(figsize=(12, 6))\n",
    "plt.plot(values)\n",
    "plt.plot(means, linewidth=3)"
   ]
  },
  {
   "cell_type": "code",
   "execution_count": null,
   "metadata": {},
   "outputs": [],
   "source": []
  },
  {
   "cell_type": "markdown",
   "metadata": {},
   "source": [
    "Не могу понять как прогнозировать новые значения, прошу помочь"
   ]
  },
  {
   "cell_type": "code",
   "execution_count": null,
   "metadata": {},
   "outputs": [],
   "source": []
  },
  {
   "cell_type": "code",
   "execution_count": null,
   "metadata": {},
   "outputs": [],
   "source": []
  },
  {
   "cell_type": "code",
   "execution_count": null,
   "metadata": {},
   "outputs": [],
   "source": []
  },
  {
   "cell_type": "code",
   "execution_count": null,
   "metadata": {},
   "outputs": [],
   "source": []
  }
 ],
 "metadata": {
  "kernelspec": {
   "display_name": "Python 3",
   "language": "python",
   "name": "python3"
  },
  "language_info": {
   "codemirror_mode": {
    "name": "ipython",
    "version": 3
   },
   "file_extension": ".py",
   "mimetype": "text/x-python",
   "name": "python",
   "nbconvert_exporter": "python",
   "pygments_lexer": "ipython3",
   "version": "3.8.5"
  }
 },
 "nbformat": 4,
 "nbformat_minor": 4
}
