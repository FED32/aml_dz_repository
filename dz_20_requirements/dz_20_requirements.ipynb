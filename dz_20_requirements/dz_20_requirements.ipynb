{
 "cells": [
  {
   "cell_type": "markdown",
   "metadata": {},
   "source": [
    "Возьмите за основу продукт компании “Нетология” - профессию Data Scientist.\n",
    "\n",
    "Как бы Вы организовали аналитику по данному продукту?\n",
    "\n",
    "Сформулируйте 2-3 ключевые метрики продукта\n",
    "\n",
    "Какие данные Вам могут помочь в поиске инсайтов?\n",
    "\n",
    "Опишите команду для работы с данными для данного продукта\n",
    "\n",
    "Какие роли Вам будут нужны?\n",
    "\n",
    "Чем они будут заниматься?"
   ]
  },
  {
   "cell_type": "code",
   "execution_count": null,
   "metadata": {},
   "outputs": [],
   "source": []
  },
  {
   "cell_type": "code",
   "execution_count": null,
   "metadata": {},
   "outputs": [],
   "source": []
  },
  {
   "cell_type": "markdown",
   "metadata": {},
   "source": [
    "Метрики продукта:\n",
    "    \n",
    "1 количество студентов поступивших на курс (для оценки популярности курса относительно конкурентов)\n",
    "    \n",
    "2 количество студентов оставшихся на курсе после пробного периода (конверсия)\n",
    "    \n",
    "3 уровень удовлетворенности курсом (анализ на основе отзывов)"
   ]
  },
  {
   "cell_type": "code",
   "execution_count": null,
   "metadata": {},
   "outputs": [],
   "source": []
  },
  {
   "cell_type": "code",
   "execution_count": null,
   "metadata": {},
   "outputs": [],
   "source": []
  },
  {
   "cell_type": "markdown",
   "metadata": {},
   "source": [
    "Данные:\n",
    "    \n",
    "    1 количество студентов в начале курса минус количество студентов успешно окончивших курс\n",
    "    \n",
    "    2 количество успевающих студентов (которые присутствуют на большинстве онлайн-лекций и вовремя сдающие домашние задания)\n",
    "    \n",
    "    3 датасет из статистики по каждому студенту"
   ]
  },
  {
   "cell_type": "code",
   "execution_count": null,
   "metadata": {},
   "outputs": [],
   "source": []
  },
  {
   "cell_type": "markdown",
   "metadata": {},
   "source": [
    "Команда:\n",
    "\n",
    "1 Специалист по базам данных, разработчик (разработка API, настройка получения данных, хранение и доступ)\n",
    "\n",
    "2 DATA-инженер (извлечение, преобразование, настройка данных)\n",
    "\n",
    "3 DATA-scientist (EDA, data-engineering, построение моделей, поиск закономерностей, извлечение информации, подготовка отчетности)\n",
    "\n",
    "4 BI-аналитик (интерпретация результатов работы предыдущих ролей на понятном бизнесу языке)\n",
    "\n",
    "* Возможно совмещение ролей"
   ]
  },
  {
   "cell_type": "code",
   "execution_count": null,
   "metadata": {},
   "outputs": [],
   "source": []
  },
  {
   "cell_type": "code",
   "execution_count": null,
   "metadata": {},
   "outputs": [],
   "source": []
  },
  {
   "cell_type": "code",
   "execution_count": null,
   "metadata": {},
   "outputs": [],
   "source": []
  },
  {
   "cell_type": "code",
   "execution_count": null,
   "metadata": {},
   "outputs": [],
   "source": []
  }
 ],
 "metadata": {
  "kernelspec": {
   "display_name": "Python 3",
   "language": "python",
   "name": "python3"
  },
  "language_info": {
   "codemirror_mode": {
    "name": "ipython",
    "version": 3
   },
   "file_extension": ".py",
   "mimetype": "text/x-python",
   "name": "python",
   "nbconvert_exporter": "python",
   "pygments_lexer": "ipython3",
   "version": "3.8.5"
  }
 },
 "nbformat": 4,
 "nbformat_minor": 4
}
