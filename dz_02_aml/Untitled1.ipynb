{
 "cells": [
  {
   "cell_type": "code",
   "execution_count": 4,
   "metadata": {},
   "outputs": [
    {
     "name": "stdout",
     "output_type": "stream",
     "text": [
      "\n",
      "\n",
      "Initial Setup Complete\n"
     ]
    }
   ],
   "source": [
    "import numpy as np \n",
    "import scipy as sc \n",
    "from sympy import *\n",
    "import sys\n",
    "sys.displayhook = pprint\n",
    "init_printing()\n",
    "print('\\n\\nInitial Setup Complete')\n",
    "\n",
    "\n",
    "\n",
    "\n",
    "\n",
    "def momentum(c_f, f):\t\n",
    "\tprint (\"f(x) = \",c_f)\n",
    "\tf_dash = diff(c_f,x)\n",
    "\tprint (\"df(x)/dx = \" , f_dash)\n",
    "\ta = float(input(\"Enter initial approximation: \"))\n",
    "\tx0=a\n",
    "\tn = float(input(\"Enter learning rate: \"))\n",
    "\tg = float(input(\"Enter momentum constant: \"))\n",
    "\terr = float(input(\"Enter error tolerance : \"))\n",
    "\tprint (\"Starting Momentum\")\n",
    "\tprint (\"\tx0 = \",a)\n",
    "\tprint (\"\tf(x0) = \",f(a))\n",
    "\titer_count = 0\n",
    "\txk=x0\n",
    "\tv0=0\n",
    "\twhile (True):\n",
    "\t\titer_count = iter_count + 1\n",
    "\t\t#print \"Iteration No. \", iter_count, \": \"\t\t\n",
    "\t\tfk_dash= (lambdify(x , f_dash , \"numpy\"))(xk)\n",
    "\t\tvk = g*v0 + n*fk_dash\n",
    "\t\txk = xk - vk\n",
    "\t\t#print \"\tx\"+str(iter_count)+\" = \",xk\n",
    "\t\t#print \"\tf(x\"+str(iter_count)+\") = \",f(xk)\n",
    "\t\tif abs(N(xk-x0)) < float(err):\n",
    "\t\t\tbreak\n",
    "\t\tx0 = xk\n",
    "\t\tv0 = vk\n",
    "\tprint (\"Number of Iterations = \",iter_count)\n",
    "\tprint (\"\tMinima is at = \",xk)\n",
    "\tprint (\"\tMinimum value of Cost Function= \",f(xk))"
   ]
  },
  {
   "cell_type": "code",
   "execution_count": null,
   "metadata": {},
   "outputs": [],
   "source": []
  },
  {
   "cell_type": "code",
   "execution_count": null,
   "metadata": {},
   "outputs": [],
   "source": []
  }
 ],
 "metadata": {
  "kernelspec": {
   "display_name": "Python 3",
   "language": "python",
   "name": "python3"
  },
  "language_info": {
   "codemirror_mode": {
    "name": "ipython",
    "version": 3
   },
   "file_extension": ".py",
   "mimetype": "text/x-python",
   "name": "python",
   "nbconvert_exporter": "python",
   "pygments_lexer": "ipython3",
   "version": "3.7.6"
  }
 },
 "nbformat": 4,
 "nbformat_minor": 4
}
